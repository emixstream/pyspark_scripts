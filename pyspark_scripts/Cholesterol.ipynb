{
 "cells": [
  {
   "cell_type": "code",
   "execution_count": 5,
   "metadata": {
    "ExecuteTime": {
     "end_time": "2018-07-12T11:14:13.655851Z",
     "start_time": "2018-07-12T10:14:14.085Z"
    }
   },
   "outputs": [],
   "source": [
    "import collections\n",
    "from operator import add\n",
    "\n",
    "\n",
    "\n",
    "Patient = collections.namedtuple(\"Patient\", \"id name address phone_number\")\n",
    "\n",
    "BloodTest = collections.namedtuple(\"BloodTest\", \"id id_patient code date description result\")\n",
    "\n",
    "\n",
    "\n",
    "patient1=Patient(1, \"Alice\", \"Pza L. Da Vinci 32\", \"02 2399\")\n",
    "patient2=Patient(2, \"Bob\", \"Via Golgi 40\", \"02 23992\")\n",
    "bloodTest1=BloodTest(1,1,1, \"17/2/2017\", \"Glucose\",94)\n",
    "bloodTest2=BloodTest(2,1,2, \"17/2/2017\", \"Cholesterol\",140)\n",
    "bloodTest3=BloodTest(3,2,1, \"16/2/2017\", \"Glucose\",83)\n",
    "bloodTest4=BloodTest(4,2,2, \"16/2/2017\", \"Cholesterol\",238)\n",
    "\n",
    "\n",
    "patientsRDD=sc.parallelize([patient1,patient2])\n",
    "testsRDD=sc.parallelize([bloodTest1,bloodTest2,bloodTest3,bloodTest4])\n",
    "\n",
    "\n",
    "#Provide the name of patients with Cholesterol larger than 220"
   ]
  },
  {
   "cell_type": "code",
   "execution_count": 6,
   "metadata": {
    "ExecuteTime": {
     "end_time": "2018-07-12T11:14:14.837644Z",
     "start_time": "2018-07-12T10:14:14.511Z"
    }
   },
   "outputs": [
    {
     "data": {
      "text/plain": [
       "[BloodTest(id=4, id_patient=2, code=2, date='16/2/2017', description='Cholesterol', result=238)]"
      ]
     },
     "execution_count": 6,
     "metadata": {},
     "output_type": "execute_result"
    }
   ],
   "source": [
    "\n",
    "filteredRDD=testsRDD.filter(lambda x : x[4]==\"Cholesterol\" and x[5]>220)\n",
    "\n",
    "filteredRDD.collect()\n",
    "\n",
    "\n"
   ]
  },
  {
   "cell_type": "code",
   "execution_count": 7,
   "metadata": {
    "ExecuteTime": {
     "end_time": "2018-07-12T11:14:16.893676Z",
     "start_time": "2018-07-12T10:14:14.937Z"
    }
   },
   "outputs": [
    {
     "data": {
      "text/plain": [
       "[(2, (4, 'Bob'))]"
      ]
     },
     "execution_count": 7,
     "metadata": {},
     "output_type": "execute_result"
    }
   ],
   "source": [
    "mappedRDD=filteredRDD.map(lambda x : (x[1], x[0]))\n",
    "mappedRDD.collect()\n",
    "\n",
    "\n",
    "# In[21]:\n",
    "\n",
    "joinedRDD=mappedRDD.join(patientsRDD)\n",
    "joinedRDD.collect()\n",
    "\n"
   ]
  },
  {
   "cell_type": "code",
   "execution_count": 8,
   "metadata": {
    "ExecuteTime": {
     "end_time": "2018-07-12T11:14:18.378635Z",
     "start_time": "2018-07-12T10:14:15.320Z"
    }
   },
   "outputs": [
    {
     "data": {
      "text/plain": [
       "['Bob']"
      ]
     },
     "execution_count": 8,
     "metadata": {},
     "output_type": "execute_result"
    }
   ],
   "source": [
    "resultsRDD=joinedRDD.map(lambda x : x[1][1])\n",
    "resultsRDD.collect()\n",
    "\n",
    "\n"
   ]
  },
  {
   "cell_type": "code",
   "execution_count": null,
   "metadata": {
    "collapsed": true
   },
   "outputs": [],
   "source": []
  },
  {
   "cell_type": "code",
   "execution_count": null,
   "metadata": {
    "collapsed": true
   },
   "outputs": [],
   "source": []
  }
 ],
 "metadata": {
  "kernelspec": {
   "display_name": "Toree - PySpark",
   "language": "python",
   "name": "toree_pyspark"
  },
  "language_info": {
   "file_extension": ".py",
   "name": "python",
   "pygments_lexer": "python",
   "version": "3.5.3\n"
  }
 },
 "nbformat": 4,
 "nbformat_minor": 2
}
