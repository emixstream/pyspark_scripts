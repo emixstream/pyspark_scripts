{
 "cells": [
  {
   "cell_type": "code",
   "execution_count": 1,
   "metadata": {
    "ExecuteTime": {
     "end_time": "2018-07-12T13:11:39.661296Z",
     "start_time": "2018-07-12T12:11:38.926Z"
    }
   },
   "outputs": [],
   "source": [
    "import collections\n",
    "Rel_A=collections.namedtuple('Rel_A', 'k a1 a2')\n",
    "Rel_B=collections.namedtuple('Rel_B', 'k b1 b2')\n",
    "\n",
    "\n",
    "rel_a1=Rel_A(\"k1\",1,2)\n",
    "rel_a2=Rel_A(\"k2\",3,4)\n",
    "rel_a3=Rel_A(\"k3\",5,6)\n",
    "rel_b1=Rel_B(\"k1\",7,8)\n",
    "rel_b2=Rel_B(\"k2\",9,10)\n",
    "rel_b3=Rel_B(\"k3\",11,12)\n",
    "\n",
    "\n",
    "\n",
    "\n"
   ]
  },
  {
   "cell_type": "code",
   "execution_count": 2,
   "metadata": {
    "ExecuteTime": {
     "end_time": "2018-07-12T13:11:43.731711Z",
     "start_time": "2018-07-12T12:11:41.485Z"
    }
   },
   "outputs": [
    {
     "data": {
      "text/plain": [
       "[Rel_A(k='k1', a1=1, a2=2), Rel_A(k='k2', a1=3, a2=4), Rel_A(k='k3', a1=5, a2=6)]"
      ]
     },
     "execution_count": 2,
     "metadata": {},
     "output_type": "execute_result"
    }
   ],
   "source": [
    "rel_a_rdd=sc.parallelize([rel_a1,rel_a2,rel_a3])\n",
    "rel_b_rdd=sc.parallelize([rel_b1,rel_b2,rel_b3])\n",
    "\n",
    "\n",
    "\n",
    "rel_a_rdd.collect()\n",
    "\n",
    "\n",
    "\n",
    "\n"
   ]
  },
  {
   "cell_type": "code",
   "execution_count": 3,
   "metadata": {
    "ExecuteTime": {
     "end_time": "2018-07-12T13:11:45.828578Z",
     "start_time": "2018-07-12T12:11:44.951Z"
    }
   },
   "outputs": [
    {
     "data": {
      "text/plain": [
       "[Rel_B(k='k1', b1=7, b2=8), Rel_B(k='k2', b1=9, b2=10), Rel_B(k='k3', b1=11, b2=12)]"
      ]
     },
     "execution_count": 3,
     "metadata": {},
     "output_type": "execute_result"
    }
   ],
   "source": [
    "rel_b_rdd.collect()\n",
    "\n",
    "\n"
   ]
  },
  {
   "cell_type": "code",
   "execution_count": 4,
   "metadata": {
    "ExecuteTime": {
     "end_time": "2018-07-12T13:12:28.123419Z",
     "start_time": "2018-07-12T12:12:25.985Z"
    }
   },
   "outputs": [
    {
     "data": {
      "text/plain": [
       "[('k2', (3, 9)), ('k1', (1, 7)), ('k3', (5, 11))]"
      ]
     },
     "execution_count": 4,
     "metadata": {},
     "output_type": "execute_result"
    }
   ],
   "source": [
    "\n",
    "rel_c_rdd=rel_a_rdd.join(rel_b_rdd)\n",
    "\n",
    "\n",
    "\n",
    "\n",
    "rel_c_rdd.collect()\n",
    "\n",
    "\n"
   ]
  },
  {
   "cell_type": "code",
   "execution_count": 5,
   "metadata": {
    "ExecuteTime": {
     "end_time": "2018-07-12T13:12:45.732945Z",
     "start_time": "2018-07-12T12:12:44.240Z"
    }
   },
   "outputs": [
    {
     "data": {
      "text/plain": [
       "[('k2', ((3, 4), (9, 10))), ('k1', ((1, 2), (7, 8))), ('k3', ((5, 6), (11, 12)))]"
      ]
     },
     "execution_count": 5,
     "metadata": {},
     "output_type": "execute_result"
    }
   ],
   "source": [
    "\n",
    "rel_join_rdd=rel_a_rdd.map(lambda x: (x.k, (x.a1,x.a2))).join(rel_b_rdd.map(lambda x: (x.k,(x.b1,x.b2))))\n",
    "\n",
    "\n",
    "\n",
    "rel_join_rdd.collect()\n",
    "\n",
    "\n"
   ]
  },
  {
   "cell_type": "code",
   "execution_count": 6,
   "metadata": {
    "ExecuteTime": {
     "end_time": "2018-07-12T13:12:58.923095Z",
     "start_time": "2018-07-12T12:12:57.852Z"
    },
    "collapsed": true
   },
   "outputs": [],
   "source": [
    "\n",
    "\n",
    "t1=rel_join_rdd.take(1)\n",
    "\n",
    "\n",
    "\n"
   ]
  },
  {
   "cell_type": "code",
   "execution_count": 7,
   "metadata": {
    "ExecuteTime": {
     "end_time": "2018-07-12T13:13:07.959892Z",
     "start_time": "2018-07-12T12:13:07.929Z"
    }
   },
   "outputs": [
    {
     "data": {
      "text/plain": [
       "<class 'list'>"
      ]
     },
     "execution_count": 7,
     "metadata": {},
     "output_type": "execute_result"
    }
   ],
   "source": [
    "type(t1)\n",
    "\n",
    "\n"
   ]
  },
  {
   "cell_type": "code",
   "execution_count": 8,
   "metadata": {
    "ExecuteTime": {
     "end_time": "2018-07-12T13:13:18.991364Z",
     "start_time": "2018-07-12T12:13:18.049Z"
    }
   },
   "outputs": [
    {
     "data": {
      "text/plain": [
       "[('k2', ((3, 4), (9, 10)))]"
      ]
     },
     "execution_count": 8,
     "metadata": {},
     "output_type": "execute_result"
    }
   ],
   "source": [
    "\n",
    "\n",
    "\n",
    "\n",
    "t1\n",
    "\n",
    "\n",
    "\n",
    "\n",
    "\n",
    "\n",
    "\n"
   ]
  },
  {
   "cell_type": "code",
   "execution_count": 9,
   "metadata": {
    "ExecuteTime": {
     "end_time": "2018-07-12T13:13:28.997971Z",
     "start_time": "2018-07-12T12:13:28.758Z"
    }
   },
   "outputs": [
    {
     "data": {
      "text/plain": [
       "('k2', ((3, 4), (9, 10)))"
      ]
     },
     "execution_count": 9,
     "metadata": {},
     "output_type": "execute_result"
    }
   ],
   "source": [
    "t1[0]\n",
    "\n",
    "\n",
    "\n",
    "\n",
    "\n"
   ]
  },
  {
   "cell_type": "code",
   "execution_count": 10,
   "metadata": {
    "ExecuteTime": {
     "end_time": "2018-07-12T13:13:34.023412Z",
     "start_time": "2018-07-12T12:13:33.799Z"
    }
   },
   "outputs": [
    {
     "data": {
      "text/plain": [
       "((3, 4), (9, 10))"
      ]
     },
     "execution_count": 10,
     "metadata": {},
     "output_type": "execute_result"
    }
   ],
   "source": [
    "\n",
    "t1[0][1]\n",
    "\n",
    "\n",
    "\n",
    "\n"
   ]
  },
  {
   "cell_type": "code",
   "execution_count": 11,
   "metadata": {
    "ExecuteTime": {
     "end_time": "2018-07-12T13:13:44.040521Z",
     "start_time": "2018-07-12T12:13:43.069Z"
    }
   },
   "outputs": [
    {
     "data": {
      "text/plain": [
       "10"
      ]
     },
     "execution_count": 11,
     "metadata": {},
     "output_type": "execute_result"
    }
   ],
   "source": [
    "t1[0][1][1][1]\n",
    "\n"
   ]
  },
  {
   "cell_type": "code",
   "execution_count": null,
   "metadata": {
    "collapsed": true
   },
   "outputs": [],
   "source": []
  }
 ],
 "metadata": {
  "kernelspec": {
   "display_name": "Toree - PySpark",
   "language": "python",
   "name": "toree_pyspark"
  },
  "language_info": {
   "file_extension": ".py",
   "name": "python",
   "pygments_lexer": "python",
   "version": "3.5.3\n"
  }
 },
 "nbformat": 4,
 "nbformat_minor": 2
}
