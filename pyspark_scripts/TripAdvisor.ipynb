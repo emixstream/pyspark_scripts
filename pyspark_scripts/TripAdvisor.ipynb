{
 "cells": [
  {
   "cell_type": "code",
   "execution_count": 1,
   "metadata": {
    "ExecuteTime": {
     "end_time": "2018-07-12T19:35:11.859025Z",
     "start_time": "2018-07-12T18:34:52.439Z"
    }
   },
   "outputs": [],
   "source": [
    "import collections\n",
    "\n",
    "User = collections.namedtuple(\"User\", \"id nickname\")\n",
    "Place = collections.namedtuple(\"Place\", \"id name description classification\")\n",
    "Review = collections.namedtuple(\"Review\", \"id id_user id_place text rating\")\n",
    "\n",
    "\n",
    "user1=User(1,\"barack2009\")\n",
    "user2=User(2,\"donald2017\")\n",
    "\n",
    "place1 = Place(1,\"Daniel\", \"NYC rank 1 French Restaurant\", \"Fine dining,French\")\n",
    "place2 = Place(2,\"Pizza Suprema\",\"Owned by the Same Italian Family for over 45 years!\", \"Italian,Pizza,Fast Food\")\n",
    "place3 = Place(3, \"Los Tacos No. 1\",\"LOS TACOS No.1  was created after 3 close friends from Tijuana decided to bring the authentic Mexican taco to the east coast\", \"Mexican,Latin,Fast Food\")\n",
    "\n",
    "\n",
    "review1 = Review(1,2,1,\"Best restaurant in New York in my opinion. Only a few Michelin 3 stars in Paris are comparable\",5)\n",
    "review2 = Review(2,1,2,\"Yummy fresh pizza! Ordered pizza to our room. As a warning - it is MASSIVE!!! Hey yummy and filling and everything tasted fresh\",5)\n",
    "review3 = Review(3,1,3,\"Amazing, quick Mexican food 4. We had Los Tacos for lunch this past weekend. It was so authentic. Small menu, but it's ready in minutes. SOOO good!\",4)\n",
    "review4 = Review(4,1,3,\"I went to the one on 43rd st. This was freaking good best steak taco I have ever had!!! So tasty! Just excellent!\",5)\n",
    "\n",
    "usersRDD=sc.parallelize([user1,user2])\n",
    "placesRDD=sc.parallelize([place1,place2,place3])\n",
    "reviewsRDD=sc.parallelize([review1,review2,review3,review4])\n",
    "\n"
   ]
  },
  {
   "cell_type": "code",
   "execution_count": 2,
   "metadata": {
    "ExecuteTime": {
     "end_time": "2018-07-12T19:38:29.479591Z",
     "start_time": "2018-07-12T18:38:26.937Z"
    }
   },
   "outputs": [
    {
     "data": {
      "text/plain": [
       "[(2, ('Pizza Suprema', 'Italian,Pizza,Fast Food')), (3, ('Los Tacos No. 1', 'Mexican,Latin,Fast Food'))]"
      ]
     },
     "execution_count": 2,
     "metadata": {},
     "output_type": "execute_result"
    }
   ],
   "source": [
    "# Select the  ratings for Fast Food (provide also Place name)\n",
    "\n",
    "#Filter Fast Food restaurants\n",
    "def filterClass(classification, criterion):\n",
    "    return criterion in classification.split(\",\")\n",
    "\n",
    "filteredPlacesRDD=placesRDD.map(lambda x: (x[0], (x[1], x[-1]) )).\\\n",
    "filter(lambda x: filterClass(x[-1][-1],\"Fast Food\"))\n",
    "\n",
    "filteredPlacesRDD.collect()\n",
    "\n",
    "\n"
   ]
  },
  {
   "cell_type": "code",
   "execution_count": 3,
   "metadata": {
    "ExecuteTime": {
     "end_time": "2018-07-12T19:38:46.691107Z",
     "start_time": "2018-07-12T18:38:45.896Z"
    }
   },
   "outputs": [
    {
     "data": {
      "text/plain": [
       "[(1, 5), (2, 5), (3, 4), (3, 5)]"
      ]
     },
     "execution_count": 3,
     "metadata": {},
     "output_type": "execute_result"
    }
   ],
   "source": [
    "# Select ratings\n",
    "ratingsRDD=reviewsRDD.map(lambda x: (x.id_place, x.rating) )\n",
    "ratingsRDD.collect()\n"
   ]
  },
  {
   "cell_type": "code",
   "execution_count": 4,
   "metadata": {
    "ExecuteTime": {
     "end_time": "2018-07-12T19:39:10.597701Z",
     "start_time": "2018-07-12T18:39:09.327Z"
    }
   },
   "outputs": [
    {
     "data": {
      "text/plain": [
       "[('Pizza Suprema', 5), ('Los Tacos No. 1', 4), ('Los Tacos No. 1', 5)]"
      ]
     },
     "execution_count": 4,
     "metadata": {},
     "output_type": "execute_result"
    }
   ],
   "source": [
    "joinRDD=filteredPlacesRDD.join(ratingsRDD).map(lambda x: (x[-1][0][0],x[-1][-1]))\n",
    "joinRDD.collect()\n",
    "\n"
   ]
  },
  {
   "cell_type": "code",
   "execution_count": 5,
   "metadata": {
    "ExecuteTime": {
     "end_time": "2018-07-12T19:39:26.374073Z",
     "start_time": "2018-07-12T18:39:24.377Z"
    }
   },
   "outputs": [
    {
     "name": "stdout",
     "output_type": "stream",
     "text": [
      "+---+----------+\n",
      "| id|  nickname|\n",
      "+---+----------+\n",
      "|  1|barack2009|\n",
      "|  2|donald2017|\n",
      "+---+----------+\n",
      "\n"
     ]
    }
   ],
   "source": [
    "usersDF=usersRDD.toDF([\"id\", \"nickname\"])\n",
    "usersDF.show()\n",
    "\n"
   ]
  },
  {
   "cell_type": "code",
   "execution_count": 6,
   "metadata": {
    "ExecuteTime": {
     "end_time": "2018-07-12T19:39:37.752619Z",
     "start_time": "2018-07-12T18:39:36.468Z"
    }
   },
   "outputs": [
    {
     "name": "stdout",
     "output_type": "stream",
     "text": [
      "+---+---------------+--------------------+--------------------+\n",
      "| id|           name|         description|      classification|\n",
      "+---+---------------+--------------------+--------------------+\n",
      "|  1|         Daniel|NYC rank 1 French...|  Fine dining,French|\n",
      "|  2|  Pizza Suprema|Owned by the Same...|Italian,Pizza,Fas...|\n",
      "|  3|Los Tacos No. 1|LOS TACOS No.1  w...|Mexican,Latin,Fas...|\n",
      "+---+---------------+--------------------+--------------------+\n",
      "\n"
     ]
    }
   ],
   "source": [
    "placesDF=placesRDD.toDF([\"id\", \"name\", \"description\", \"classification\"])\n",
    "placesDF.show()\n",
    "\n"
   ]
  },
  {
   "cell_type": "code",
   "execution_count": 7,
   "metadata": {
    "ExecuteTime": {
     "end_time": "2018-07-12T19:39:52.124125Z",
     "start_time": "2018-07-12T18:39:51.250Z"
    }
   },
   "outputs": [
    {
     "name": "stdout",
     "output_type": "stream",
     "text": [
      "+---+-------+--------+--------------------+------+\n",
      "| id|id_user|id_place|                text|rating|\n",
      "+---+-------+--------+--------------------+------+\n",
      "|  1|      2|       1|Best restaurant i...|     5|\n",
      "|  2|      1|       2|Yummy fresh pizza...|     5|\n",
      "|  3|      1|       3|Amazing, quick Me...|     4|\n",
      "|  4|      1|       3|I went to the one...|     5|\n",
      "+---+-------+--------+--------------------+------+\n",
      "\n"
     ]
    }
   ],
   "source": [
    "reviewsDF=reviewsRDD.toDF([\"id\", \"id_user\", \"id_place\", \"text\", \"rating\"])\n",
    "reviewsDF.show()\n"
   ]
  },
  {
   "cell_type": "code",
   "execution_count": 8,
   "metadata": {
    "ExecuteTime": {
     "end_time": "2018-07-12T19:40:09.666641Z",
     "start_time": "2018-07-12T18:40:09.030Z"
    }
   },
   "outputs": [
    {
     "name": "stdout",
     "output_type": "stream",
     "text": [
      "+---+---------------+--------------------+--------------------+\n",
      "| id|           name|         description|      classification|\n",
      "+---+---------------+--------------------+--------------------+\n",
      "|  2|  Pizza Suprema|Owned by the Same...|Italian,Pizza,Fas...|\n",
      "|  3|Los Tacos No. 1|LOS TACOS No.1  w...|Mexican,Latin,Fas...|\n",
      "+---+---------------+--------------------+--------------------+\n",
      "\n"
     ]
    }
   ],
   "source": [
    "from pyspark.sql.functions import udf\n",
    "from pyspark.sql.types import BooleanType\n",
    "filterClass_udf=udf(lambda x: filterClass(x, \"Fast Food\"),BooleanType())\n",
    "\n",
    "filteredPlacesDF = placesDF.filter(filterClass_udf(placesDF.classification))\n",
    "\n",
    "\n",
    "filteredPlacesDF.show()\n"
   ]
  },
  {
   "cell_type": "code",
   "execution_count": 9,
   "metadata": {
    "ExecuteTime": {
     "end_time": "2018-07-12T19:40:45.128540Z",
     "start_time": "2018-07-12T18:40:39.778Z"
    }
   },
   "outputs": [
    {
     "name": "stdout",
     "output_type": "stream",
     "text": [
      "+---------------+------+\n",
      "|           name|rating|\n",
      "+---------------+------+\n",
      "|Los Tacos No. 1|     4|\n",
      "|Los Tacos No. 1|     5|\n",
      "|  Pizza Suprema|     5|\n",
      "+---------------+------+\n",
      "\n"
     ]
    }
   ],
   "source": [
    "filteredPlacesDF.join(reviewsDF,reviewsDF.id_place==filteredPlacesDF.id).\\\n",
    "select(filteredPlacesDF.name,reviewsDF.rating).\\\n",
    "show()"
   ]
  },
  {
   "cell_type": "code",
   "execution_count": null,
   "metadata": {
    "collapsed": true
   },
   "outputs": [],
   "source": []
  }
 ],
 "metadata": {
  "kernelspec": {
   "display_name": "Toree - PySpark",
   "language": "python",
   "name": "toree_pyspark"
  },
  "language_info": {
   "file_extension": ".py",
   "name": "python",
   "pygments_lexer": "python",
   "version": "3.5.3\n"
  }
 },
 "nbformat": 4,
 "nbformat_minor": 2
}
