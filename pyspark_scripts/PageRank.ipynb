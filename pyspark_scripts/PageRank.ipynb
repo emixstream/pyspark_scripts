{
 "cells": [
  {
   "cell_type": "code",
   "execution_count": 1,
   "metadata": {
    "ExecuteTime": {
     "end_time": "2018-07-13T10:26:58.197224Z",
     "start_time": "2018-07-13T09:26:55.810Z"
    }
   },
   "outputs": [
    {
     "data": {
      "text/plain": [
       "[('aaa', ['bbb', 'ccc']), ('bbb', ['aaa']), ('ccc', ['aaa'])]"
      ]
     },
     "execution_count": 1,
     "metadata": {},
     "output_type": "execute_result"
    }
   ],
   "source": [
    "def compute_contribs(pair):\n",
    "    [url, [links, rank]] = pair  # split key-value pair\n",
    "    return [(dest, rank/len(links)) for dest in links]\n",
    "\n",
    "\n",
    "# RDD of (url, neighbors) pairs\n",
    "links = sc.parallelize ([(\"aaa\", [\"bbb\", \"ccc\"]),  (\"bbb\", [\"aaa\"]), (\"ccc\", [\"aaa\"])])\n",
    "links.collect()\n",
    "\n",
    "\n"
   ]
  },
  {
   "cell_type": "code",
   "execution_count": 2,
   "metadata": {
    "ExecuteTime": {
     "end_time": "2018-07-13T10:27:13.700470Z",
     "start_time": "2018-07-13T09:27:12.852Z"
    }
   },
   "outputs": [
    {
     "data": {
      "text/plain": [
       "[('aaa', 1.0), ('bbb', 1.0), ('ccc', 1.0)]"
      ]
     },
     "execution_count": 2,
     "metadata": {},
     "output_type": "execute_result"
    }
   ],
   "source": [
    "# RDD of (url, rank) pairs\n",
    "ranks = links.map(lambda url_neighbors: (url_neighbors[0], 1.0))\n",
    "ranks.collect()\n",
    "\n",
    "\n",
    "\n",
    "\n"
   ]
  },
  {
   "cell_type": "code",
   "execution_count": 7,
   "metadata": {
    "ExecuteTime": {
     "end_time": "2018-07-13T10:28:46.460290Z",
     "start_time": "2018-07-13T09:28:09.968Z"
    }
   },
   "outputs": [
    {
     "name": "stdout",
     "output_type": "stream",
     "text": [
      "join result [('aaa', (['bbb', 'ccc'], 1.8499999999999999)), ('bbb', (['aaa'], 0.575)), ('ccc', (['aaa'], 0.575))]\n",
      "contribs [('bbb', 0.9249999999999999), ('ccc', 0.9249999999999999), ('aaa', 0.575), ('aaa', 0.575)]\n",
      "join result [('aaa', (['bbb', 'ccc'], 1.1275)), ('ccc', (['aaa'], 0.9362499999999999)), ('bbb', (['aaa'], 0.9362499999999999))]\n",
      "contribs [('bbb', 0.56375), ('ccc', 0.56375), ('aaa', 0.9362499999999999), ('aaa', 0.9362499999999999)]\n",
      "join result [('ccc', (['aaa'], 0.6291875)), ('aaa', (['bbb', 'ccc'], 1.7416249999999998)), ('bbb', (['aaa'], 0.6291875))]\n",
      "contribs [('aaa', 0.6291875), ('bbb', 0.8708124999999999), ('ccc', 0.8708124999999999), ('aaa', 0.6291875)]\n",
      "join result [('aaa', (['bbb', 'ccc'], 1.21961875)), ('bbb', (['aaa'], 0.8901906249999999)), ('ccc', (['aaa'], 0.8901906249999999))]\n",
      "contribs [('bbb', 0.609809375), ('ccc', 0.609809375), ('aaa', 0.8901906249999999), ('aaa', 0.8901906249999999)]\n",
      "join result [('bbb', (['aaa'], 0.66833796875)), ('ccc', (['aaa'], 0.66833796875)), ('aaa', (['bbb', 'ccc'], 1.6633240624999996))]\n",
      "contribs [('aaa', 0.66833796875), ('aaa', 0.66833796875), ('bbb', 0.8316620312499998), ('ccc', 0.8316620312499998)]\n",
      "join result [('bbb', (['aaa'], 0.8569127265624998)), ('aaa', (['bbb', 'ccc'], 1.2861745468749999)), ('ccc', (['aaa'], 0.8569127265624998))]\n",
      "contribs [('aaa', 0.8569127265624998), ('bbb', 0.6430872734374999), ('ccc', 0.6430872734374999), ('aaa', 0.8569127265624998)]\n",
      "join result [('aaa', (['bbb', 'ccc'], 1.6067516351562496)), ('bbb', (['aaa'], 0.696624182421875)), ('ccc', (['aaa'], 0.696624182421875))]\n",
      "contribs [('bbb', 0.8033758175781248), ('ccc', 0.8033758175781248), ('aaa', 0.696624182421875), ('aaa', 0.696624182421875)]\n",
      "join result [('ccc', (['aaa'], 0.8328694449414061)), ('aaa', (['bbb', 'ccc'], 1.3342611101171873)), ('bbb', (['aaa'], 0.8328694449414061))]\n",
      "contribs [('aaa', 0.8328694449414061), ('bbb', 0.6671305550585936), ('ccc', 0.6671305550585936), ('aaa', 0.8328694449414061)]\n",
      "join result [('bbb', (['aaa'], 0.7170609717998047)), ('ccc', (['aaa'], 0.7170609717998047)), ('aaa', (['bbb', 'ccc'], 1.5658780564003902))]\n",
      "contribs [('aaa', 0.7170609717998047), ('aaa', 0.7170609717998047), ('bbb', 0.7829390282001951), ('ccc', 0.7829390282001951)]\n",
      "join result [('aaa', (['bbb', 'ccc'], 1.3690036520596678)), ('bbb', (['aaa'], 0.8154981739701659)), ('ccc', (['aaa'], 0.8154981739701659))]\n",
      "contribs [('bbb', 0.6845018260298339), ('ccc', 0.6845018260298339), ('aaa', 0.8154981739701659), ('aaa', 0.8154981739701659)]\n"
     ]
    }
   ],
   "source": [
    "NUM_ITERATIONS=10\n",
    "\n",
    "for i in range(NUM_ITERATIONS):\n",
    "    # [url, [links, rank]] schema for compute contribs\n",
    "    joinedRDD=links.join(ranks)\n",
    "    print (\"join result \" + str(joinedRDD.collect()))\n",
    "    contribs = links.join(ranks).flatMap(compute_contribs)\n",
    "    print (\"contribs \" + str(contribs.collect()))\n",
    "    ranks = contribs.reduceByKey(lambda x, y: x + y).mapValues(lambda x: 0.15 + 0.85 * x)\n",
    "\n",
    "\n",
    "\n",
    "\n",
    "\n",
    "\n"
   ]
  },
  {
   "cell_type": "code",
   "execution_count": 8,
   "metadata": {
    "ExecuteTime": {
     "end_time": "2018-07-13T10:29:15.981504Z",
     "start_time": "2018-07-13T09:29:13.778Z"
    }
   },
   "outputs": [
    {
     "data": {
      "text/plain": [
       "[('aaa', 1.5363468957492818), ('bbb', 0.7318265521253589), ('ccc', 0.7318265521253589)]"
      ]
     },
     "execution_count": 8,
     "metadata": {},
     "output_type": "execute_result"
    }
   ],
   "source": [
    "ranks.collect()"
   ]
  },
  {
   "cell_type": "code",
   "execution_count": null,
   "metadata": {
    "collapsed": true
   },
   "outputs": [],
   "source": []
  }
 ],
 "metadata": {
  "kernelspec": {
   "display_name": "Toree - PySpark",
   "language": "python",
   "name": "toree_pyspark"
  },
  "language_info": {
   "file_extension": ".py",
   "name": "python",
   "pygments_lexer": "python",
   "version": "3.5.3\n"
  }
 },
 "nbformat": 4,
 "nbformat_minor": 2
}
