{
 "cells": [
  {
   "cell_type": "code",
   "execution_count": 1,
   "metadata": {
    "ExecuteTime": {
     "end_time": "2018-07-12T13:53:14.953897Z",
     "start_time": "2018-07-12T12:52:43.857Z"
    }
   },
   "outputs": [],
   "source": [
    "import collections\n",
    "from operator import add\n",
    "\n",
    "System = collections.namedtuple(\"System\", \"id location repair_cost downtime_cost\")\n",
    "\n",
    "EventSystem1 = collections.namedtuple(\"EventSystem1\", \"id day month year event_type event_value reference_system_id\")\n",
    "# as EventSystem1 but date is a single string DD:MM:YYYY\n",
    "EventSystem2 = collections.namedtuple(\"EventSystem2\", \"id date event_type event_value reference_system_id\")\n",
    "\n",
    "\n",
    "event1=EventSystem1(1,31, 8, 2016, \"Entrance alarm\", 0.0, 1)\n",
    "event2=EventSystem1(2,31, 8, 2016, \"Window alarm\", 0.0, 1)\n",
    "event3=EventSystem1(3,31, 8, 2016, \"Movement detection\", 0.0, 1) \n",
    "event4=EventSystem2(4,\"31:8:2016\", \"Temperature sample\", 28.0, 2) \n",
    "event5=EventSystem2(5,\"31:8:2016\", \"Temperature sample\", 27.2, 2) \n",
    "event6=EventSystem2(6,\"31:8:2016\", \"Temperature sample\", 27.3, 2) \n",
    "event7=EventSystem1(3,31, 8, 2016, \"Fire alarm\", 0.0, 1)\n",
    "EventsSys1RDD=sc.parallelize([event1,event2,event3,event7]) \n",
    "EventsSys2RDD=sc.parallelize([event4,event5,event6])\n",
    "System1=System(1,\"GroundFloor\",100.0, 1.3) \n",
    "System2=System(2,\"BedRoom\",11.0, 0.0)\n",
    "SystemsRDD=sc.parallelize([System1,System2])\n",
    "\n"
   ]
  },
  {
   "cell_type": "code",
   "execution_count": 2,
   "metadata": {
    "ExecuteTime": {
     "end_time": "2018-07-12T13:53:38.371974Z",
     "start_time": "2018-07-12T12:53:35.105Z"
    }
   },
   "outputs": [
    {
     "data": {
      "text/plain": [
       "[EventSystem2(id=1, date='31:8:2016', event_type='Entrance alarm', event_value=0.0, reference_system_id=1), EventSystem2(id=2, date='31:8:2016', event_type='Window alarm', event_value=0.0, reference_system_id=1), EventSystem2(id=3, date='31:8:2016', event_type='Movement detection', event_value=0.0, reference_system_id=1), EventSystem2(id=3, date='31:8:2016', event_type='Fire alarm', event_value=0.0, reference_system_id=1)]"
      ]
     },
     "execution_count": 2,
     "metadata": {},
     "output_type": "execute_result"
    }
   ],
   "source": [
    "\n",
    "# Convert EventSystem1 to EventSystem2 format  \n",
    "def eventsConversion(e1):\n",
    "    return EventSystem2(e1.id,str(e1.day)+\":\"+str(e1.month)+\":\"+str(e1.year), e1.event_type, e1.event_value, e1.reference_system_id)\n",
    "\n",
    "\n",
    "\n",
    "EventsSystem1_2RDD = EventsSys1RDD.map(lambda x : eventsConversion(x))\n",
    "\n",
    "\n",
    "EventsSystem1_2RDD.collect()\n"
   ]
  },
  {
   "cell_type": "code",
   "execution_count": 3,
   "metadata": {
    "ExecuteTime": {
     "end_time": "2018-07-12T13:53:48.748319Z",
     "start_time": "2018-07-12T12:53:47.885Z"
    }
   },
   "outputs": [
    {
     "data": {
      "text/plain": [
       "[EventSystem2(id=1, date='31:8:2016', event_type='Entrance alarm', event_value=0.0, reference_system_id=1), EventSystem2(id=2, date='31:8:2016', event_type='Window alarm', event_value=0.0, reference_system_id=1), EventSystem2(id=3, date='31:8:2016', event_type='Movement detection', event_value=0.0, reference_system_id=1), EventSystem2(id=3, date='31:8:2016', event_type='Fire alarm', event_value=0.0, reference_system_id=1), EventSystem2(id=4, date='31:8:2016', event_type='Temperature sample', event_value=28.0, reference_system_id=2), EventSystem2(id=5, date='31:8:2016', event_type='Temperature sample', event_value=27.2, reference_system_id=2), EventSystem2(id=6, date='31:8:2016', event_type='Temperature sample', event_value=27.3, reference_system_id=2)]"
      ]
     },
     "execution_count": 3,
     "metadata": {},
     "output_type": "execute_result"
    }
   ],
   "source": [
    "\n",
    "EventsRDD = EventsSystem1_2RDD.union(EventsSys2RDD)\n",
    "\n",
    "\n",
    "EventsRDD.collect()\n",
    "\n"
   ]
  },
  {
   "cell_type": "code",
   "execution_count": 4,
   "metadata": {
    "ExecuteTime": {
     "end_time": "2018-07-12T13:54:09.144121Z",
     "start_time": "2018-07-12T12:54:08.010Z"
    }
   },
   "outputs": [
    {
     "data": {
      "text/plain": [
       "[EventSystem2(id=4, date='31:8:2016', event_type='Temperature sample', event_value=28.0, reference_system_id=2), EventSystem2(id=5, date='31:8:2016', event_type='Temperature sample', event_value=27.2, reference_system_id=2), EventSystem2(id=6, date='31:8:2016', event_type='Temperature sample', event_value=27.3, reference_system_id=2)]"
      ]
     },
     "execution_count": 4,
     "metadata": {},
     "output_type": "execute_result"
    }
   ],
   "source": [
    "#Count for each system  the number of temperature events (provide system id and location)\n",
    "# Identify temperature samples\n",
    "tempsRDD = EventsRDD.filter(lambda x : x.event_type == \"Temperature sample\")\n",
    "\n",
    "\n",
    "tempsRDD.collect()\n"
   ]
  },
  {
   "cell_type": "code",
   "execution_count": 5,
   "metadata": {
    "ExecuteTime": {
     "end_time": "2018-07-12T13:54:34.031666Z",
     "start_time": "2018-07-12T12:54:32.859Z"
    }
   },
   "outputs": [
    {
     "data": {
      "text/plain": [
       "[(2, 3)]"
      ]
     },
     "execution_count": 5,
     "metadata": {},
     "output_type": "execute_result"
    }
   ],
   "source": [
    "#Count for each system the number of temperature events\n",
    "resultsRDD = tempsRDD.map(lambda x : (x.reference_system_id, 1)).reduceByKey(lambda x,y : x+y)\n",
    "\n",
    "resultsRDD.collect()\n",
    "\n"
   ]
  },
  {
   "cell_type": "code",
   "execution_count": 6,
   "metadata": {
    "ExecuteTime": {
     "end_time": "2018-07-12T13:54:42.989038Z",
     "start_time": "2018-07-12T12:54:41.513Z"
    }
   },
   "outputs": [
    {
     "data": {
      "text/plain": [
       "[(2, 'BedRoom', 3)]"
      ]
     },
     "execution_count": 6,
     "metadata": {},
     "output_type": "execute_result"
    }
   ],
   "source": [
    "#Join to identify the location\n",
    "results_2RDD = SystemsRDD.map(lambda x : (x.id,x.location)).join(resultsRDD).map(lambda x : (x[0],x[1][0],x[1][1]))\n",
    "\n",
    "\n",
    "results_2RDD.collect()"
   ]
  },
  {
   "cell_type": "code",
   "execution_count": null,
   "metadata": {
    "collapsed": true
   },
   "outputs": [],
   "source": []
  }
 ],
 "metadata": {
  "kernelspec": {
   "display_name": "Toree - PySpark",
   "language": "python",
   "name": "toree_pyspark"
  },
  "language_info": {
   "file_extension": ".py",
   "name": "python",
   "pygments_lexer": "python",
   "version": "3.5.3\n"
  }
 },
 "nbformat": 4,
 "nbformat_minor": 2
}
