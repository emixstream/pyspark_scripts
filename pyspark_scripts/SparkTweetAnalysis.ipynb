{
 "cells": [
  {
   "cell_type": "code",
   "execution_count": 15,
   "metadata": {
    "ExecuteTime": {
     "end_time": "2018-07-12T11:07:00.647346Z",
     "start_time": "2018-07-12T10:07:00.824Z"
    },
    "collapsed": true
   },
   "outputs": [],
   "source": [
    "import collections\n",
    "\n",
    "\n",
    "Tweet = collections.namedtuple(\"Tweet\", \"num date time text\")\n",
    "ClassifiedTweet = collections.namedtuple(\"ClassifiedTweet\", \"num sentiment\")\n",
    "\n",
    "\n"
   ]
  },
  {
   "cell_type": "code",
   "execution_count": 16,
   "metadata": {
    "ExecuteTime": {
     "end_time": "2018-07-12T11:07:06.652040Z",
     "start_time": "2018-07-12T10:07:07.136Z"
    },
    "collapsed": true
   },
   "outputs": [],
   "source": [
    "# Analyse a text and detect if it is positive negative or neutral \n",
    "def sentiment(s): \n",
    "    positive = (\"like\", \"love\", \"good\", \"great\", \"happy\",\"cool\", \"amazing\")\n",
    "    negative = (\"hate\", \"bad\", \"stupid\")\n",
    "    st=0;\n",
    "    words = s.split(\" \")\n",
    "    for p in positive:\n",
    "        for w in words:\n",
    "            if p==w: \n",
    "                st = st+1\n",
    "    negs=list(filter(lambda w: w in negative,words))\n",
    "    num_neg=len(negs)\n",
    "    \n",
    "    st=st-num_neg\n",
    "    if(st>0):\n",
    "        return \"positive\"\n",
    "    elif(st<0):\n",
    "        return \"negative\"\n",
    "    else:\n",
    "        return \"neutral\"\n",
    "    \n",
    "\n",
    "\n"
   ]
  },
  {
   "cell_type": "code",
   "execution_count": 17,
   "metadata": {
    "ExecuteTime": {
     "end_time": "2018-07-12T11:07:51.723554Z",
     "start_time": "2018-07-12T10:07:51.798Z"
    },
    "collapsed": true
   },
   "outputs": [],
   "source": [
    "tweet1= Tweet(1,\"22/06/2016\",\"08:00:00\",\"I love the new phone by YYYY\")\n",
    "tweet2= Tweet(2,\"22/06/2016\",\"08:10:00\",\"The new camera by ZZZZ is amazing\")\n",
    "tweet3 =Tweet(3,\"23/06/2016\",\"08:30:00\",\"\"\"I heard about the strike but it is \n",
    "                unbelivable we don’t move for more than one hour. I hate traffic jams\"\"\")\n",
    "tweetsRDD=sc.parallelize([tweet1,tweet2,tweet3])\n",
    "\n"
   ]
  },
  {
   "cell_type": "code",
   "execution_count": 18,
   "metadata": {
    "ExecuteTime": {
     "end_time": "2018-07-12T11:07:53.859274Z",
     "start_time": "2018-07-12T10:07:54.396Z"
    }
   },
   "outputs": [
    {
     "data": {
      "text/plain": [
       "[ClassifiedTweet(num=1, sentiment='positive'), ClassifiedTweet(num=2, sentiment='positive'), ClassifiedTweet(num=3, sentiment='negative')]"
      ]
     },
     "execution_count": 18,
     "metadata": {},
     "output_type": "execute_result"
    }
   ],
   "source": [
    "classifiedTweetsRDD=tweetsRDD.map(lambda t: ClassifiedTweet(t.num,sentiment(t.text)))\n",
    "classifiedTweetsRDD.collect()\n"
   ]
  },
  {
   "cell_type": "code",
   "execution_count": 19,
   "metadata": {
    "ExecuteTime": {
     "end_time": "2018-07-12T11:08:12.606836Z",
     "start_time": "2018-07-12T10:08:12.172Z"
    }
   },
   "outputs": [
    {
     "data": {
      "text/plain": [
       "[(2, ('22/06/2016', 'positive')), (1, ('22/06/2016', 'positive')), (3, ('23/06/2016', 'negative'))]"
      ]
     },
     "execution_count": 19,
     "metadata": {},
     "output_type": "execute_result"
    }
   ],
   "source": [
    "t0=classifiedTweetsRDD.map(lambda t: tuple( (t.num, t.sentiment )))\n",
    "t0.collect()\n",
    "t1=tweetsRDD.map(lambda t:(t.num, t.date)).join(t0)\n",
    "#t1=tweetsRDD.map(lambda t:(t.num, t.date)).join(classifiedTweetsRDD)\n",
    "\n",
    "\n",
    "t1.collect()\n",
    "\n",
    "\n",
    "\n",
    "#for (num, (date, sentiment)) in t1.toLocalIterator():\n",
    "#    print(\"%d %s %s\" % (num, date, sentiment))"
   ]
  },
  {
   "cell_type": "code",
   "execution_count": null,
   "metadata": {
    "collapsed": true
   },
   "outputs": [],
   "source": []
  }
 ],
 "metadata": {
  "kernelspec": {
   "display_name": "Python 3 (ipykernel)",
   "language": "python",
   "name": "python3"
  },
  "language_info": {
   "codemirror_mode": {
    "name": "ipython",
    "version": 3
   },
   "file_extension": ".py",
   "mimetype": "text/x-python",
   "name": "python",
   "nbconvert_exporter": "python",
   "pygments_lexer": "ipython3",
   "version": "3.9.7"
  }
 },
 "nbformat": 4,
 "nbformat_minor": 2
}
